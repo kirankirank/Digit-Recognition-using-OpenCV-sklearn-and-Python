{
 "cells": [
  {
   "cell_type": "code",
   "execution_count": null,
   "id": "8ee85953-83c0-4417-be92-e9298aea250d",
   "metadata": {},
   "outputs": [],
   "source": [
    "import cv2\n",
    "import mediapipe as mp\n",
    "mp_drawing = mp.solutions.drawing_utils\n",
    "mp_drawing_styles = mp.solutions.drawing_styles\n",
    "mp_hands = mp.solutions.hands\n",
    "capture = cv2.VideoCapture(0)\n",
    "\n",
    "while True:\n",
    "    _, imag = capture.read()\n",
    "    x, y, c = imag.shape\n",
    "    results = mp_hands.Hands().process(cv2.cvtColor(imag, cv2.COLOR_BGR2RGB))\n",
    "    if results.multi_hand_landmarks:\n",
    "        land_marks = []\n",
    "        for hand_landmarks in results.multi_hand_landmarks:\n",
    "            #mp_drawing.draw_landmarks(imag, hand_landmarks, mp_hands.HAND_CONNECTIONS)\n",
    "            for id, lm in enumerate(hand_landmarks.landmark):\n",
    "                #print(id,lm)\n",
    "                lmx = int(lm.x * x)\n",
    "                lmy = int(lm.y * y)\n",
    "                land_marks.append([id, lmx, lmy])\n",
    "        #print(land_marks)\n",
    "        fingers = []\n",
    "        if len(land_marks)!= 0:\n",
    "            if land_marks[8][2] < land_marks[6][2]:\n",
    "                fingers.append(1)\n",
    "            else :\n",
    "                fingers.append(0)\n",
    "            if land_marks[12][2] < land_marks[10][2]:\n",
    "                fingers.append(1)\n",
    "            else:\n",
    "                fingers.append(0)\n",
    "            if land_marks[16][2] < land_marks[14][2]:\n",
    "                fingers.append(1)\n",
    "            else:\n",
    "                fingers.append(0)\n",
    "            if land_marks[20][2] < land_marks[18][2]:\n",
    "                fingers.append(1)\n",
    "            else:\n",
    "                fingers.append(0)\n",
    "            if land_marks[4][1] > land_marks[3][1]:\n",
    "                fingers.append(1)\n",
    "            else:\n",
    "                fingers.append(0)\n",
    "        cv2.putText(imag, str(fingers.count(1)), (50,50), cv2.FONT_HERSHEY_SIMPLEX, 1, (255, 255, 255), 2, cv2.LINE_AA)\n",
    "    cv2.imshow('frame', imag)\n",
    "      \n",
    "    # the 'p' button is set as the\n",
    "    # quitting button you may use any\n",
    "    # desired button of your choice\n",
    "    if cv2.waitKey(1) & 0xFF == ord('p'):\n",
    "        break\n",
    "  \n",
    "# After the loop release the cap object\n",
    "capture.release()\n",
    "# Destroy all the windows\n",
    "cv2.destroyAllWindows()\n"
   ]
  },
  {
   "cell_type": "code",
   "execution_count": null,
   "id": "fe2fad92",
   "metadata": {},
   "outputs": [],
   "source": []
  },
  {
   "cell_type": "code",
   "execution_count": null,
   "id": "e87ee0cb",
   "metadata": {},
   "outputs": [],
   "source": []
  }
 ],
 "metadata": {
  "kernelspec": {
   "display_name": "Python 3 (ipykernel)",
   "language": "python",
   "name": "python3"
  },
  "language_info": {
   "codemirror_mode": {
    "name": "ipython",
    "version": 3
   },
   "file_extension": ".py",
   "mimetype": "text/x-python",
   "name": "python",
   "nbconvert_exporter": "python",
   "pygments_lexer": "ipython3",
   "version": "3.8.13"
  }
 },
 "nbformat": 4,
 "nbformat_minor": 5
}
